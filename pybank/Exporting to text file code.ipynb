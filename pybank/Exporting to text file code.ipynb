{
 "cells": [
  {
   "cell_type": "code",
   "execution_count": null,
   "id": "b454cb94",
   "metadata": {},
   "outputs": [],
   "source": [
    "output_file = os.path.join(\"Analysis\", \"budget_analysis.txt\")\n",
    "with open(output_file, \"w\") as txt_file:\n",
    "    txt_file.write(str(total_months))"
   ]
  }
 ],
 "metadata": {
  "kernelspec": {
   "display_name": "PythonData",
   "language": "python",
   "name": "pythondata"
  },
  "language_info": {
   "codemirror_mode": {
    "name": "ipython",
    "version": 3
   },
   "file_extension": ".py",
   "mimetype": "text/x-python",
   "name": "python",
   "nbconvert_exporter": "python",
   "pygments_lexer": "ipython3",
   "version": "3.7.7"
  }
 },
 "nbformat": 4,
 "nbformat_minor": 5
}
